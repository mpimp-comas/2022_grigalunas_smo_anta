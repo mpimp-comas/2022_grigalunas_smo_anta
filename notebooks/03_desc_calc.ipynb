{
 "cells": [
  {
   "cell_type": "markdown",
   "metadata": {},
   "source": [
    "<div align=\"right\">(18-Mar-2022)</div>\n",
    "<h1>Caclulate a Set of Descriptors and Create Plots</h1>\n",
    "     \n",
    "* Create per-class and overview plots"
   ]
  },
  {
   "cell_type": "code",
   "execution_count": 1,
   "metadata": {},
   "outputs": [],
   "source": [
    "%reload_ext autoreload\n",
    "%autoreload 2\n",
    "def warn(*args, **kwargs):\n",
    "    pass  # to silence scikit-learn warnings\n",
    "\n",
    "import warnings\n",
    "warnings.filterwarnings('ignore')\n",
    "warnings.warn = warn\n",
    "\n",
    "# Type hints\n",
    "from typing import Iterable, List, Set, Dict, Union, Optional\n",
    "\n",
    "import os,gc\n",
    "\n",
    "import pandas as pd\n",
    "import numpy as np\n",
    "import scipy.stats as st\n",
    "from sklearn.decomposition import PCA\n",
    "from sklearn.preprocessing import minmax_scale\n",
    "from sklearn.preprocessing import StandardScaler\n",
    "from sklearn.neighbors import KernelDensity\n",
    "# from scipy.stats import median_absolute_deviation as mad\n",
    "\n",
    "from rdkit import DataStructs\n",
    "from rdkit.Chem import AllChem as Chem, QED\n",
    "from rdkit.Chem import Descriptors as Desc\n",
    "from rdkit.Chem import rdMolDescriptors as rdMolDesc\n",
    "from rdkit.Chem import Fragments\n",
    "# from rdkit.Chem import Draw\n",
    "# from rdkit.Chem.Draw import IPythonConsole\n",
    "\n",
    "# from mol_frame import mol_frame as mf\n",
    "# from cellpainting3 import processing as cpp, tools as cpt\n",
    "from Contrib.NP_Score import npscorer\n",
    "\n",
    "import matplotlib.pyplot as plt\n",
    "import seaborn as sns\n",
    "from tqdm.notebook import tqdm\n",
    "tqdm.pandas()\n",
    "\n",
    "from IPython.core.interactiveshell import InteractiveShell\n",
    "InteractiveShell.ast_node_interactivity = \"all\"\n",
    "\n",
    "# Project-local Imports\n",
    "from jupy_tools import plt_style, pca\n",
    "from jupy_tools import utils as u, mol_view as mv\n",
    "from jupy_tools.utils import info"
   ]
  },
  {
   "cell_type": "markdown",
   "metadata": {},
   "source": [
    "## Functions"
   ]
  },
  {
   "cell_type": "markdown",
   "metadata": {},
   "source": [
    "## Configuration"
   ]
  },
  {
   "cell_type": "code",
   "execution_count": 2,
   "metadata": {
    "tags": [
     "parameters"
    ]
   },
   "outputs": [],
   "source": [
    "config = {\n",
    "    \"dataset\": \"smiles_all\",\n",
    "    \"name\": \"SmoAnta\",\n",
    "    \"id_col\": \"Cpd_Id\",  # this key is optional\n",
    "    \"extra_columns\": [],\n",
    "    # when the data set contains internal Compound_Ids, these will be used for merging thestructures. \n",
    "    # Otherwise a \"Smiles\" column is expected:\n",
    "    \"has_cpd_ids\": False,  \n",
    "    \"per_class_plots\": True,\n",
    "    \"per_class_order_asc\": False,\n",
    "    \"per_class_colors\": [\"red\", \"blue\"]\n",
    "}"
   ]
  },
  {
   "cell_type": "code",
   "execution_count": 3,
   "metadata": {},
   "outputs": [
    {
     "name": "stderr",
     "output_type": "stream",
     "text": [
      "reading NP model ...\n",
      "model in\n"
     ]
    }
   ],
   "source": [
    "\n",
    "DATA_EN = \"enamine_adv_full\"\n",
    "DATA_DB = \"drugbank_5.1.8_appr_inv_full\"\n",
    "DATA_NP = \"chembl_30_np_full_nocanon_deglyco\"\n",
    "\n",
    "descriptors = {\n",
    "    \"NP_Like\": lambda x: round(score_np(x), 2), \n",
    "    \"QED\": lambda x: round(QED.default(x), 3),\n",
    "    \"NumHA\": lambda x: x.GetNumAtoms(),\n",
    "    \"MW\": lambda x: round(Desc.ExactMolWt(x), 2),\n",
    "    \"NumRings\": rdMolDesc.CalcNumRings,\n",
    "    \"NumRingsArom\": rdMolDesc.CalcNumAromaticRings,\n",
    "    \"NumRingsAli\": rdMolDesc.CalcNumAliphaticRings,\n",
    "    \"NumHDon\": rdMolDesc.CalcNumLipinskiHBD,\n",
    "    \"NumHAcc\": rdMolDesc.CalcNumLipinskiHBA,\n",
    "    \"LogP\": lambda x: round(Desc.MolLogP(x), 2),\n",
    "    \"TPSA\": lambda x: round(rdMolDesc.CalcTPSA(x), 2),\n",
    "    \"NumRotBd\": rdMolDesc.CalcNumRotatableBonds,\n",
    "    \"NumAtOx\": lambda x: len(\n",
    "        [a for a in x.GetAtoms() if a.GetAtomicNum() == 8]\n",
    "    ),\n",
    "    \"NumAtN\": lambda x: len(\n",
    "        [a for a in x.GetAtoms() if a.GetAtomicNum() == 7]\n",
    "    ),\n",
    "    \"NumAtHal\": Fragments.fr_halogen,\n",
    "    \"NumAtBridgehead\": rdMolDesc.CalcNumBridgeheadAtoms,\n",
    "    \"FCsp3\": lambda x: round(rdMolDesc.CalcFractionCSP3(x), 3), \n",
    "}\n",
    "\n",
    "cmap = {\"Enamine\": \"#1f77b4\", \"DrugBank\": \"#ff7f0e\", \"ChEMBL NP\": \"#2ca02c\", config[\"name\"]: \"#d62728\"}\n",
    "contour_cmap = {\"Enamine\": \"#1f77b4\", \"DrugBank\": \"#ff7f0e\", \"ChEMBL NP\": \"#2ca02c\", config[\"name\"]: \"#d62728\"}\n",
    "selected_descriptors = [\"NP_Like\", \"QED\", \"FCsp3\"]\n",
    "xlims = {\"NP_Like\": (-5, 5), \"QED\": (0, 1), \"FCsp3\": (0, 1)}\n",
    "widths = {\"NP_Like\": 10, \"QED\": 10, \"FCsp3\": 10}\n",
    "\n",
    "fscore = npscorer.readNPModel()\n",
    "def score_np(mol):\n",
    "    return npscorer.scoreMol(mol, fscore)\n",
    "\n",
    "os.makedirs(f'output/{config[\"dataset\"]}_desc', exist_ok=True)"
   ]
  },
  {
   "cell_type": "markdown",
   "metadata": {},
   "source": [
    "## Loading Data Sets"
   ]
  },
  {
   "cell_type": "code",
   "execution_count": 4,
   "metadata": {},
   "outputs": [
    {
     "name": "stdout",
     "output_type": "stream",
     "text": [
      "read_tsv                           : [     616 /   6 ] ( Cpd_Id, Name, InChIKey, Smiles, DataSet, CpdClass )\n",
      "read_tsv                           : [   50000 /  28 ] \n",
      "read_tsv                           : [    4866 /  21 ] \n",
      "read_tsv                           : [   45679 /  20 ] \n"
     ]
    }
   ],
   "source": [
    "df_int = u.read_tsv(f\"input/{config['dataset']}.tsv\")\n",
    "\n",
    "if config[\"has_cpd_ids\"]:\n",
    "    # Merge structure Smiles by Compound_Id\n",
    "    config[\"id_col\"] = \"Compound_Id\"\n",
    "    df_comas = u.read_tsv(\"/home/pahl/comas/share/comas_smiles.tsv\")\n",
    "    num_cpds_1 = len(df_int)\n",
    "    df_int = pd.merge(df_int, df_comas, on=\"Compound_Id\", how=\"left\")\n",
    "    num_cpds_2 = len(df_int)\n",
    "    assert num_cpds_1 == num_cpds_2, f\"Only {num_cpds_2} out of {num_cpds_2} compounds were found in the COMAS database.\"\n",
    "if config.get(\"has_salts\", False):\n",
    "    print(\"Standardizing structures...\")\n",
    "    num_cpds_1 = len(df_int)\n",
    "    df_int = u.calc_from_smiles(df_int, \"Smiles_Stand\", u.standardize_mol)\n",
    "    df_int = u.remove_nans(df_int, \"Smiles_Stand\")\n",
    "    num_cpds_2 = len(df_int)\n",
    "    assert num_cpds_1 == num_cpds_2, f\"Only {num_cpds_2} out of {num_cpds_1} compounds could be standardized.\"\n",
    "    df_int = df_int.drop(\"Smiles\", axis=1)\n",
    "    df_int = df_int.rename(columns={'Smiles_Stand': 'Smiles'})\n",
    "if \"id_col\" not in config:\n",
    "    config[\"id_col\"] = \"Cpd_Id\"\n",
    "    df_int[\"Cpd_Id\"] = df_int.index + 1\n",
    "\n",
    "# The reference data sets already contain the Descriptor data\n",
    "# Generated by the separate notebook `02_desc_precalc_datasets`\n",
    "df_en = u.read_tsv(f\"input/{DATA_EN}_sample_50k_desc.tsv\")\n",
    "df_db = u.read_tsv(f\"input/{DATA_DB}_desc.tsv\")\n",
    "df_np = u.read_tsv(f\"input/{DATA_NP}_desc.tsv\")\n",
    "\n",
    "datasets = {\"Enamine\": df_en, \"DrugBank\": df_db, \"ChEMBL NP\": df_np}\n",
    "id_cols = {\"Enamine\": \"idnumber\", \"DrugBank\": \"DRUGBANK_ID\", \"ChEMBL NP\": \"chembl_id\", config[\"name\"]: config[\"id_col\"]}"
   ]
  },
  {
   "cell_type": "markdown",
   "metadata": {},
   "source": [
    "## Write Structure Overview File"
   ]
  },
  {
   "cell_type": "code",
   "execution_count": 5,
   "metadata": {},
   "outputs": [
    {
     "data": {
      "application/vnd.jupyter.widget-view+json": {
       "model_id": "255a51d59b5e46a4adf7bb18a3a959f8",
       "version_major": 2,
       "version_minor": 0
      },
      "text/plain": [
       "  0%|          | 0/616 [00:00<?, ?it/s]"
      ]
     },
     "metadata": {},
     "output_type": "display_data"
    },
    {
     "name": "stdout",
     "output_type": "stream",
     "text": [
      "drop_cols                          : [     616 /   6 ]  1 columns removed. ( Cpd_Id, Name, InChIKey, DataSet, CpdClass, Mol )\n"
     ]
    },
    {
     "data": {
      "text/html": [
       "<a href=\"output/smiles_all_desc/mol_grid.html\">SmoAnta</a>"
      ],
      "text/plain": [
       "<IPython.core.display.HTML object>"
      ]
     },
     "execution_count": 5,
     "metadata": {},
     "output_type": "execute_result"
    }
   ],
   "source": [
    "mv.write_mol_grid(\n",
    "    df_int, title=config[\"name\"], id_col=\"Cpd_Id\", fn=f\"output/{config['dataset']}_desc/mol_grid.html\",\n",
    "    truncate=20\n",
    ")"
   ]
  },
  {
   "cell_type": "markdown",
   "metadata": {},
   "source": [
    "## Adding Descriptors to Internal Data"
   ]
  },
  {
   "cell_type": "code",
   "execution_count": 6,
   "metadata": {},
   "outputs": [
    {
     "name": "stdout",
     "output_type": "stream",
     "text": [
      "NP_Like        : \n"
     ]
    },
    {
     "data": {
      "application/vnd.jupyter.widget-view+json": {
       "model_id": "af02db3ece72458496b7bef994e200d6",
       "version_major": 2,
       "version_minor": 0
      },
      "text/plain": [
       "  0%|          | 0/616 [00:00<?, ?it/s]"
      ]
     },
     "metadata": {},
     "output_type": "display_data"
    },
    {
     "name": "stdout",
     "output_type": "stream",
     "text": [
      "calc_from_smiles                   : [     616 /   7 ]    0 rows removed because of nans. ( Cpd_Id, Name, InChIKey, Smiles, DataSet, CpdClass, NP_Like )\n",
      "QED            : \n"
     ]
    },
    {
     "data": {
      "application/vnd.jupyter.widget-view+json": {
       "model_id": "79ab942fc23a4de387796e08d04da1bc",
       "version_major": 2,
       "version_minor": 0
      },
      "text/plain": [
       "  0%|          | 0/616 [00:00<?, ?it/s]"
      ]
     },
     "metadata": {},
     "output_type": "display_data"
    },
    {
     "name": "stdout",
     "output_type": "stream",
     "text": [
      "calc_from_smiles                   : [     616 /   8 ]    0 rows removed because of nans. ( Cpd_Id, Name, InChIKey, Smiles, DataSet, CpdClass, NP_Like, QED )\n",
      "NumHA          : \n"
     ]
    },
    {
     "data": {
      "application/vnd.jupyter.widget-view+json": {
       "model_id": "42d86fd0894e4e86a1fd1d23a2828b17",
       "version_major": 2,
       "version_minor": 0
      },
      "text/plain": [
       "  0%|          | 0/616 [00:00<?, ?it/s]"
      ]
     },
     "metadata": {},
     "output_type": "display_data"
    },
    {
     "name": "stdout",
     "output_type": "stream",
     "text": [
      "calc_from_smiles                   : [     616 /   9 ]    0 rows removed because of nans. ( Cpd_Id, Name, InChIKey, Smiles, DataSet, CpdClass, NP_Like, QED, NumHA )\n",
      "MW             : \n"
     ]
    },
    {
     "data": {
      "application/vnd.jupyter.widget-view+json": {
       "model_id": "ba883568611b44e78a32371156307e03",
       "version_major": 2,
       "version_minor": 0
      },
      "text/plain": [
       "  0%|          | 0/616 [00:00<?, ?it/s]"
      ]
     },
     "metadata": {},
     "output_type": "display_data"
    },
    {
     "name": "stdout",
     "output_type": "stream",
     "text": [
      "calc_from_smiles                   : [     616 /  10 ]    0 rows removed because of nans. \n",
      "NumRings       : \n"
     ]
    },
    {
     "data": {
      "application/vnd.jupyter.widget-view+json": {
       "model_id": "88bec90f072845b0a529e65d7b71f2df",
       "version_major": 2,
       "version_minor": 0
      },
      "text/plain": [
       "  0%|          | 0/616 [00:00<?, ?it/s]"
      ]
     },
     "metadata": {},
     "output_type": "display_data"
    },
    {
     "name": "stdout",
     "output_type": "stream",
     "text": [
      "calc_from_smiles                   : [     616 /  11 ]    0 rows removed because of nans. \n",
      "NumRingsArom   : \n"
     ]
    },
    {
     "data": {
      "application/vnd.jupyter.widget-view+json": {
       "model_id": "46e733ccbefb4b168a90628817fb3e55",
       "version_major": 2,
       "version_minor": 0
      },
      "text/plain": [
       "  0%|          | 0/616 [00:00<?, ?it/s]"
      ]
     },
     "metadata": {},
     "output_type": "display_data"
    },
    {
     "name": "stdout",
     "output_type": "stream",
     "text": [
      "calc_from_smiles                   : [     616 /  12 ]    0 rows removed because of nans. \n",
      "NumRingsAli    : \n"
     ]
    },
    {
     "data": {
      "application/vnd.jupyter.widget-view+json": {
       "model_id": "4a1bffdf914d499791e1c9ea05ff8dad",
       "version_major": 2,
       "version_minor": 0
      },
      "text/plain": [
       "  0%|          | 0/616 [00:00<?, ?it/s]"
      ]
     },
     "metadata": {},
     "output_type": "display_data"
    },
    {
     "name": "stdout",
     "output_type": "stream",
     "text": [
      "calc_from_smiles                   : [     616 /  13 ]    0 rows removed because of nans. \n",
      "NumHDon        : \n"
     ]
    },
    {
     "data": {
      "application/vnd.jupyter.widget-view+json": {
       "model_id": "657f02dd59544ae3b5270f5e7157130e",
       "version_major": 2,
       "version_minor": 0
      },
      "text/plain": [
       "  0%|          | 0/616 [00:00<?, ?it/s]"
      ]
     },
     "metadata": {},
     "output_type": "display_data"
    },
    {
     "name": "stdout",
     "output_type": "stream",
     "text": [
      "calc_from_smiles                   : [     616 /  14 ]    0 rows removed because of nans. \n",
      "NumHAcc        : \n"
     ]
    },
    {
     "data": {
      "application/vnd.jupyter.widget-view+json": {
       "model_id": "858e3350322647b38163180f5e818e5e",
       "version_major": 2,
       "version_minor": 0
      },
      "text/plain": [
       "  0%|          | 0/616 [00:00<?, ?it/s]"
      ]
     },
     "metadata": {},
     "output_type": "display_data"
    },
    {
     "name": "stdout",
     "output_type": "stream",
     "text": [
      "calc_from_smiles                   : [     616 /  15 ]    0 rows removed because of nans. \n",
      "LogP           : \n"
     ]
    },
    {
     "data": {
      "application/vnd.jupyter.widget-view+json": {
       "model_id": "1988dc58d03747749f6cd50ecf083cf1",
       "version_major": 2,
       "version_minor": 0
      },
      "text/plain": [
       "  0%|          | 0/616 [00:00<?, ?it/s]"
      ]
     },
     "metadata": {},
     "output_type": "display_data"
    },
    {
     "name": "stdout",
     "output_type": "stream",
     "text": [
      "calc_from_smiles                   : [     616 /  16 ]    0 rows removed because of nans. \n",
      "TPSA           : \n"
     ]
    },
    {
     "data": {
      "application/vnd.jupyter.widget-view+json": {
       "model_id": "1ce5390f85b6494e8e39a1e6407486d7",
       "version_major": 2,
       "version_minor": 0
      },
      "text/plain": [
       "  0%|          | 0/616 [00:00<?, ?it/s]"
      ]
     },
     "metadata": {},
     "output_type": "display_data"
    },
    {
     "name": "stdout",
     "output_type": "stream",
     "text": [
      "calc_from_smiles                   : [     616 /  17 ]    0 rows removed because of nans. \n",
      "NumRotBd       : \n"
     ]
    },
    {
     "data": {
      "application/vnd.jupyter.widget-view+json": {
       "model_id": "204cfb4ff2c341ea9363592a435fd7ef",
       "version_major": 2,
       "version_minor": 0
      },
      "text/plain": [
       "  0%|          | 0/616 [00:00<?, ?it/s]"
      ]
     },
     "metadata": {},
     "output_type": "display_data"
    },
    {
     "name": "stdout",
     "output_type": "stream",
     "text": [
      "calc_from_smiles                   : [     616 /  18 ]    0 rows removed because of nans. \n",
      "NumAtOx        : \n"
     ]
    },
    {
     "data": {
      "application/vnd.jupyter.widget-view+json": {
       "model_id": "8f912cf86a464949a23fedf11b647f57",
       "version_major": 2,
       "version_minor": 0
      },
      "text/plain": [
       "  0%|          | 0/616 [00:00<?, ?it/s]"
      ]
     },
     "metadata": {},
     "output_type": "display_data"
    },
    {
     "name": "stdout",
     "output_type": "stream",
     "text": [
      "calc_from_smiles                   : [     616 /  19 ]    0 rows removed because of nans. \n",
      "NumAtN         : \n"
     ]
    },
    {
     "data": {
      "application/vnd.jupyter.widget-view+json": {
       "model_id": "906bc439a566473e8d86860fb00b87ba",
       "version_major": 2,
       "version_minor": 0
      },
      "text/plain": [
       "  0%|          | 0/616 [00:00<?, ?it/s]"
      ]
     },
     "metadata": {},
     "output_type": "display_data"
    },
    {
     "name": "stdout",
     "output_type": "stream",
     "text": [
      "calc_from_smiles                   : [     616 /  20 ]    0 rows removed because of nans. \n",
      "NumAtHal       : \n"
     ]
    },
    {
     "data": {
      "application/vnd.jupyter.widget-view+json": {
       "model_id": "b2a71cbbb98c49a7b440c0c12a5bb453",
       "version_major": 2,
       "version_minor": 0
      },
      "text/plain": [
       "  0%|          | 0/616 [00:00<?, ?it/s]"
      ]
     },
     "metadata": {},
     "output_type": "display_data"
    },
    {
     "name": "stdout",
     "output_type": "stream",
     "text": [
      "calc_from_smiles                   : [     616 /  21 ]    0 rows removed because of nans. \n",
      "NumAtBridgehead: \n"
     ]
    },
    {
     "data": {
      "application/vnd.jupyter.widget-view+json": {
       "model_id": "050f5112c394438295654cf530b252bd",
       "version_major": 2,
       "version_minor": 0
      },
      "text/plain": [
       "  0%|          | 0/616 [00:00<?, ?it/s]"
      ]
     },
     "metadata": {},
     "output_type": "display_data"
    },
    {
     "name": "stdout",
     "output_type": "stream",
     "text": [
      "calc_from_smiles                   : [     616 /  22 ]    0 rows removed because of nans. \n",
      "FCsp3          : \n"
     ]
    },
    {
     "data": {
      "application/vnd.jupyter.widget-view+json": {
       "model_id": "7d065f95f18c49949a54337077e61a83",
       "version_major": 2,
       "version_minor": 0
      },
      "text/plain": [
       "  0%|          | 0/616 [00:00<?, ?it/s]"
      ]
     },
     "metadata": {},
     "output_type": "display_data"
    },
    {
     "name": "stdout",
     "output_type": "stream",
     "text": [
      "calc_from_smiles                   : [     616 /  23 ]    0 rows removed because of nans. \n"
     ]
    }
   ],
   "source": [
    "for desc in descriptors:\n",
    "    print(f\"{desc:15}: \")\n",
    "    df_int = u.calc_from_smiles(df_int, desc, descriptors[desc])\n",
    "datasets[config[\"name\"]] = df_int\n",
    "u.write_tsv(df_int, f\"output/{config['dataset']}_desc/descriptors.tsv\")"
   ]
  },
  {
   "cell_type": "markdown",
   "metadata": {},
   "source": [
    "## Generate One Data Set for Plotting"
   ]
  },
  {
   "cell_type": "code",
   "execution_count": 7,
   "metadata": {},
   "outputs": [],
   "source": [
    "tmp_list = []\n",
    "for ds in datasets:\n",
    "    tmp = datasets[ds].copy()\n",
    "    tmp[\"DataSet\"] = ds\n",
    "    tmp = tmp.rename(columns={id_cols[ds]: \"Cpd_Id\"})\n",
    "    tmp_list.append(tmp)\n",
    "\n",
    "cols = [\"Cpd_Id\", \"DataSet\"]\n",
    "cols.extend(config[\"extra_columns\"])\n",
    "cols.extend(descriptors.keys())\n",
    "if config[\"per_class_plots\"]:\n",
    "    cols.append(\"CpdClass\")\n",
    "df_all = pd.concat(tmp_list)[cols]\n",
    "df_all = df_all.reset_index(drop=True)\n",
    "del tmp_list"
   ]
  },
  {
   "cell_type": "markdown",
   "metadata": {},
   "source": [
    "## Analysis\n",
    "### Overview Plots NP-Likeness, QED\n",
    "### ECDF"
   ]
  },
  {
   "cell_type": "code",
   "execution_count": 8,
   "metadata": {},
   "outputs": [
    {
     "data": {
      "text/plain": [
       "<Figure size 720x504 with 0 Axes>"
      ]
     },
     "execution_count": 8,
     "metadata": {},
     "output_type": "execute_result"
    },
    {
     "data": {
      "text/plain": [
       "<AxesSubplot:xlabel='NP_Like', ylabel='Proportion'>"
      ]
     },
     "execution_count": 8,
     "metadata": {},
     "output_type": "execute_result"
    },
    {
     "data": {
      "text/plain": [
       "(-5.0, 5.0)"
      ]
     },
     "execution_count": 8,
     "metadata": {},
     "output_type": "execute_result"
    },
    {
     "data": {
      "text/plain": [
       "Text(0.5, 1.0, 'Distribution of NP_Like')"
      ]
     },
     "execution_count": 8,
     "metadata": {},
     "output_type": "execute_result"
    },
    {
     "data": {
      "text/plain": [
       "531"
      ]
     },
     "execution_count": 8,
     "metadata": {},
     "output_type": "execute_result"
    },
    {
     "data": {
      "text/plain": [
       "<Figure size 720x504 with 0 Axes>"
      ]
     },
     "execution_count": 8,
     "metadata": {},
     "output_type": "execute_result"
    },
    {
     "data": {
      "text/plain": [
       "<AxesSubplot:xlabel='QED', ylabel='Proportion'>"
      ]
     },
     "execution_count": 8,
     "metadata": {},
     "output_type": "execute_result"
    },
    {
     "data": {
      "text/plain": [
       "(0.0, 1.0)"
      ]
     },
     "execution_count": 8,
     "metadata": {},
     "output_type": "execute_result"
    },
    {
     "data": {
      "text/plain": [
       "Text(0.5, 1.0, 'Distribution of QED')"
      ]
     },
     "execution_count": 8,
     "metadata": {},
     "output_type": "execute_result"
    },
    {
     "data": {
      "text/plain": [
       "1762"
      ]
     },
     "execution_count": 8,
     "metadata": {},
     "output_type": "execute_result"
    },
    {
     "data": {
      "text/plain": [
       "<Figure size 720x504 with 0 Axes>"
      ]
     },
     "execution_count": 8,
     "metadata": {},
     "output_type": "execute_result"
    },
    {
     "data": {
      "text/plain": [
       "<AxesSubplot:xlabel='FCsp3', ylabel='Proportion'>"
      ]
     },
     "execution_count": 8,
     "metadata": {},
     "output_type": "execute_result"
    },
    {
     "data": {
      "text/plain": [
       "(0.0, 1.0)"
      ]
     },
     "execution_count": 8,
     "metadata": {},
     "output_type": "execute_result"
    },
    {
     "data": {
      "text/plain": [
       "Text(0.5, 1.0, 'Distribution of FCsp3')"
      ]
     },
     "execution_count": 8,
     "metadata": {},
     "output_type": "execute_result"
    },
    {
     "data": {
      "text/plain": [
       "1760"
      ]
     },
     "execution_count": 8,
     "metadata": {},
     "output_type": "execute_result"
    }
   ],
   "source": [
    "for desc in selected_descriptors:\n",
    "    plt.figure(figsize=(widths[desc], 7))\n",
    "    sns.ecdfplot(data=df_all, x=desc, stat=\"proportion\", hue=\"DataSet\", palette=cmap)\n",
    "    plt.xlim(xlims[desc]);\n",
    "    # plt.legend();\n",
    "    plt.title(f\"Distribution of {desc}\")\n",
    "    plt.savefig(f\"output/{config['dataset']}_desc/ecdf_overview_{desc}.png\");\n",
    "    plt.savefig(f\"output/{config['dataset']}_desc/ecdf_overview_{desc}.svg\");\n",
    "    plt.clf()\n",
    "    plt.close()\n",
    "    gc.collect()"
   ]
  },
  {
   "cell_type": "markdown",
   "metadata": {},
   "source": [
    "### Per-Class Plots NP-Likeness, QED"
   ]
  },
  {
   "cell_type": "code",
   "execution_count": 9,
   "metadata": {
    "collapsed": true,
    "jupyter": {
     "outputs_hidden": true
    }
   },
   "outputs": [
    {
     "name": "stdout",
     "output_type": "stream",
     "text": [
      "['PNP', 'SmoAnta']\n"
     ]
    },
    {
     "data": {
      "text/plain": [
       "<Figure size 720x504 with 0 Axes>"
      ]
     },
     "execution_count": 9,
     "metadata": {},
     "output_type": "execute_result"
    },
    {
     "data": {
      "text/plain": [
       "<AxesSubplot:xlabel='NP_Like', ylabel='Proportion'>"
      ]
     },
     "execution_count": 9,
     "metadata": {},
     "output_type": "execute_result"
    },
    {
     "data": {
      "text/plain": [
       "(-5.0, 5.0)"
      ]
     },
     "execution_count": 9,
     "metadata": {},
     "output_type": "execute_result"
    },
    {
     "data": {
      "text/plain": [
       "Text(0.5, 1.0, 'Distribution of NP_Like')"
      ]
     },
     "execution_count": 9,
     "metadata": {},
     "output_type": "execute_result"
    },
    {
     "data": {
      "text/plain": [
       "2155"
      ]
     },
     "execution_count": 9,
     "metadata": {},
     "output_type": "execute_result"
    },
    {
     "data": {
      "text/plain": [
       "<Figure size 720x504 with 0 Axes>"
      ]
     },
     "execution_count": 9,
     "metadata": {},
     "output_type": "execute_result"
    },
    {
     "data": {
      "text/plain": [
       "<AxesSubplot:xlabel='QED', ylabel='Proportion'>"
      ]
     },
     "execution_count": 9,
     "metadata": {},
     "output_type": "execute_result"
    },
    {
     "data": {
      "text/plain": [
       "(0.0, 1.0)"
      ]
     },
     "execution_count": 9,
     "metadata": {},
     "output_type": "execute_result"
    },
    {
     "data": {
      "text/plain": [
       "Text(0.5, 1.0, 'Distribution of QED')"
      ]
     },
     "execution_count": 9,
     "metadata": {},
     "output_type": "execute_result"
    },
    {
     "data": {
      "text/plain": [
       "1762"
      ]
     },
     "execution_count": 9,
     "metadata": {},
     "output_type": "execute_result"
    },
    {
     "data": {
      "text/plain": [
       "<Figure size 720x504 with 0 Axes>"
      ]
     },
     "execution_count": 9,
     "metadata": {},
     "output_type": "execute_result"
    },
    {
     "data": {
      "text/plain": [
       "<AxesSubplot:xlabel='FCsp3', ylabel='Proportion'>"
      ]
     },
     "execution_count": 9,
     "metadata": {},
     "output_type": "execute_result"
    },
    {
     "data": {
      "text/plain": [
       "(0.0, 1.0)"
      ]
     },
     "execution_count": 9,
     "metadata": {},
     "output_type": "execute_result"
    },
    {
     "data": {
      "text/plain": [
       "Text(0.5, 1.0, 'Distribution of FCsp3')"
      ]
     },
     "execution_count": 9,
     "metadata": {},
     "output_type": "execute_result"
    },
    {
     "data": {
      "text/plain": [
       "1760"
      ]
     },
     "execution_count": 9,
     "metadata": {},
     "output_type": "execute_result"
    }
   ],
   "source": [
    "if config[\"per_class_plots\"]:\n",
    "    cpd_classes = sorted(df_int[\"CpdClass\"].unique())\n",
    "    print(cpd_classes)\n",
    "\n",
    "    for desc in selected_descriptors:\n",
    "        plt.figure(figsize=(widths[desc], 7))\n",
    "        sns.ecdfplot(data=df_int, x=desc, stat=\"proportion\", hue=\"CpdClass\")\n",
    "        plt.xlim(xlims[desc]);\n",
    "        # plt.legend();\n",
    "        plt.title(f\"Distribution of {desc}\")\n",
    "        plt.savefig(f\"output/{config['dataset']}_desc/ecdf_perclass_{desc}.png\");\n",
    "        plt.savefig(f\"output/{config['dataset']}_desc/ecdf_perclass_{desc}.svg\");\n",
    "        plt.clf()\n",
    "        plt.close()\n",
    "        gc.collect()"
   ]
  }
 ],
 "metadata": {
  "hide_input": false,
  "kernelspec": {
   "display_name": "Python 3.9.12 ('chem')",
   "language": "python",
   "name": "python3"
  },
  "language_info": {
   "codemirror_mode": {
    "name": "ipython",
    "version": 3
   },
   "file_extension": ".py",
   "mimetype": "text/x-python",
   "name": "python",
   "nbconvert_exporter": "python",
   "pygments_lexer": "ipython3",
   "version": "3.9.12"
  },
  "nav_menu": {},
  "toc": {
   "base_numbering": 1,
   "nav_menu": {},
   "number_sections": true,
   "sideBar": true,
   "skip_h1_title": true,
   "title_cell": "Table of Contents",
   "title_sidebar": "Contents",
   "toc_cell": false,
   "toc_position": {},
   "toc_section_display": "block",
   "toc_window_display": false
  },
  "vscode": {
   "interpreter": {
    "hash": "37153b94131a3d7082d6c68e8b98d7f7b74466979501bcc288f838b196fe7ed5"
   }
  }
 },
 "nbformat": 4,
 "nbformat_minor": 4
}
