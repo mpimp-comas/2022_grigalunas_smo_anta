{
 "cells": [
  {
   "cell_type": "markdown",
   "metadata": {},
   "source": [
    "<div align=\"right\">(29-Mar-2022)</div>\n",
    "<h1>Prepare Dataset and Calculate Similarities</h1>\n",
    "     \n",
    "* Join structures for ChEMBL Ids\n",
    "* Add compound in question\n",
    "\n",
    "* Calculate Tanimoto Similarities for 2 fingerprints\n",
    "  * full structures\n",
    "  * Murcko scaffolds\n",
    "\n",
    "The ChEMBL database in v30 was downloaded as g'zipped SD file from [ChEMBL](https://ftp.ebi.ac.uk/pub/databases/chembl/ChEMBLdb/latest/chembl_30.sdf.gz) and standardized and stereochemistry removed, but not deduplicated, with the `stand_struct.py` script:\n",
    "\n",
    "```\n",
    "$ stand_struct chembl_30.sdf.gz fullrac -d --nocanon\n",
    "```\n",
    "\n",
    "The full ChEMBL data set was NOT included in this repository, only the identified Smoothened antagonists."
   ]
  },
  {
   "cell_type": "code",
   "execution_count": 1,
   "metadata": {},
   "outputs": [],
   "source": [
    "%reload_ext autoreload\n",
    "%autoreload 2\n",
    "def warn(*args, **kwargs):\n",
    "    pass  # to silence scikit-learn warnings\n",
    "\n",
    "import warnings\n",
    "warnings.filterwarnings('ignore')\n",
    "warnings.warn = warn\n",
    "\n",
    "# Type hints\n",
    "from typing import Iterable, List, Set, Dict, Union, Optional\n",
    "\n",
    "import os, gc\n",
    "import functools\n",
    "\n",
    "import pandas as pd\n",
    "import numpy as np\n",
    "\n",
    "from sklearn.decomposition import PCA\n",
    "from sklearn.preprocessing import StandardScaler\n",
    "\n",
    "from rdkit import DataStructs\n",
    "from rdkit.Chem import AllChem as Chem, QED\n",
    "from rdkit.Chem import Descriptors as Desc\n",
    "from rdkit.Chem import rdMolDescriptors as rdMolDesc\n",
    "from rdkit.Chem import Fragments\n",
    "from rdkit.Chem.Scaffolds import MurckoScaffold\n",
    "# from rdkit.Chem import Draw\n",
    "# from rdkit.Chem.Draw import IPythonConsole\n",
    "from Contrib.NP_Score import npscorer\n",
    "\n",
    "from rdkit.Chem.MolStandardize.tautomer import TautomerCanonicalizer\n",
    "molvs_t = TautomerCanonicalizer(max_tautomers=100)\n",
    "\n",
    "import matplotlib.pyplot as plt\n",
    "import seaborn as sns\n",
    "from tqdm.notebook import tqdm\n",
    "tqdm.pandas()\n",
    "\n",
    "from IPython.core.interactiveshell import InteractiveShell\n",
    "InteractiveShell.ast_node_interactivity = \"all\"\n",
    "\n",
    "# Project-local Imports\n",
    "from jupy_tools import plt_style\n",
    "from jupy_tools import utils as u, mol_view as mv, pca\n",
    "from jupy_tools.utils import info"
   ]
  },
  {
   "cell_type": "code",
   "execution_count": 2,
   "metadata": {},
   "outputs": [
    {
     "data": {
      "image/png": "[encoded data removed]",
      "text/plain": [
       "<rdkit.Chem.rdchem.Mol at 0x7ffad03d7580>"
      ]
     },
     "execution_count": 2,
     "metadata": {},
     "output_type": "execute_result"
    }
   ],
   "source": [
    "# Grismonone, stereochemistry removed:\n",
    "pnp_id = 413261  # Internal Compound_Id\n",
    "pnp_smiles = \"COc1cc(OC)c2c(c1Cl)OC1(CCC3(CC(=O)c4cc(C)ccc4O3)CC1C)C2=O\"\n",
    "activity = \"SmoAnta\"\n",
    "u.smiles_to_mol(pnp_smiles)"
   ]
  },
  {
   "cell_type": "markdown",
   "metadata": {},
   "source": [
    "## Functions"
   ]
  },
  {
   "cell_type": "code",
   "execution_count": 3,
   "metadata": {},
   "outputs": [],
   "source": [
    "@functools.lru_cache\n",
    "def fp_from_smiles(smi, fp_type=\"ecfc4\"):\n",
    "    mol = Chem.MolFromSmiles(smi)\n",
    "    assert mol is not None, f\"Could not parse smiles: {smi}\"\n",
    "    if fp_type == \"ecfc4\":\n",
    "        fp = Chem.GetMorganFingerprint(mol, 2)\n",
    "    elif fp_type == \"ecfp6\":\n",
    "        fp = Chem.GetMorganFingerprintAsBitVect(mol, 3, nBits=1024)\n",
    "    else:\n",
    "        raise ValueError(f\"Unknown fp_type: {fp_type}\")\n",
    "    return fp\n",
    "\n",
    "def tani_sim(smiles1, smiles2, fp_type):\n",
    "    fp1 = fp_from_smiles(smiles1, fp_type)\n",
    "    fp2 = fp_from_smiles(smiles2, fp_type)\n",
    "    return round(DataStructs.TanimotoSimilarity(fp1, fp2), 3)\n",
    "\n",
    "def class_sim(list1, list2=None, fp_type=\"ecfc4\"):\n",
    "    result = []\n",
    "    if list2 is None: # comparison within one class\n",
    "        last_index = len(list1) - 1\n",
    "    else:\n",
    "        last_index = len(list1)\n",
    "    for idx1, smi1 in tqdm(enumerate(list1[:last_index]), total=last_index):\n",
    "        if list2 is None:\n",
    "            for smi2 in list1[idx1+1:]:\n",
    "                result.append(tani_sim(smi1, smi2, fp_type=fp_type))\n",
    "        else:\n",
    "            for smi2 in list2:\n",
    "                result.append(tani_sim(smi1, smi2, fp_type=fp_type))\n",
    "    return result"
   ]
  },
  {
   "cell_type": "markdown",
   "metadata": {},
   "source": [
    "## Prepare Dataset\n",
    "\n",
    "### Join ChEMBL structures to ChEMBL Ids"
   ]
  },
  {
   "cell_type": "code",
   "execution_count": 4,
   "metadata": {},
   "outputs": [
    {
     "name": "stdout",
     "output_type": "stream",
     "text": [
      "read_tsv                           : [     615 /   1 ] ( chembl_id )\n",
      "read_tsv                           : [ 2136075 /   4 ] ( Name, chembl_id, InChIKey, Smiles )\n",
      "Not found:\n"
     ]
    },
    {
     "data": {
      "text/plain": [
       "set()"
      ]
     },
     "execution_count": 4,
     "metadata": {},
     "output_type": "execute_result"
    },
    {
     "name": "stdout",
     "output_type": "stream",
     "text": [
      "ChEMBL SmoAnta                     : [     615 /   6 ] ( Cpd_Id, Name, InChIKey, Smiles, DataSet, CpdClass )\n"
     ]
    }
   ],
   "source": [
    "tmp = u.read_tsv(\"input/smo_chembl_ids.tsv\")\n",
    "df_act = tmp.copy()\n",
    "# The following file is not included in the repository\n",
    "df_chembl = u.read_tsv(\"/home/pahl/comas/notebooks/sdf/chembl30/chembl_30_fullrac_nocanon_dupl.tsv.gz\")\n",
    "df_act = pd.merge(df_act, df_chembl, on=\"chembl_id\", how=\"inner\")\n",
    "print(\"Not found:\")\n",
    "set(tmp[\"chembl_id\"].values) - set(df_act[\"chembl_id\"].values)\n",
    "df_act = df_act.rename(columns={\"chembl_id\": \"Cpd_Id\"})\n",
    "df_act[\"DataSet\"] =  activity\n",
    "df_act[\"CpdClass\"] =  activity\n",
    "info(df_act, f\"ChEMBL {activity}\")"
   ]
  },
  {
   "cell_type": "markdown",
   "metadata": {},
   "source": [
    "Add PNP"
   ]
  },
  {
   "cell_type": "code",
   "execution_count": 5,
   "metadata": {},
   "outputs": [
    {
     "name": "stdout",
     "output_type": "stream",
     "text": [
      "All                                : [     616 /   6 ] ( Cpd_Id, Name, InChIKey, Smiles, DataSet, CpdClass )\n"
     ]
    }
   ],
   "source": [
    "df_int = pd.DataFrame({\"Cpd_Id\": [str(pnp_id)], \"DataSet\": [\"PNP\"], \"CpdClass\": [\"PNP\"], \"Smiles\": [pnp_smiles]})\n",
    "df_all = pd.concat([df_act, df_int])\n",
    "info(df_all, \"All\")"
   ]
  },
  {
   "cell_type": "code",
   "execution_count": 6,
   "metadata": {},
   "outputs": [],
   "source": [
    "u.write_tsv(df_all, \"input/smiles_all.tsv\")"
   ]
  },
  {
   "cell_type": "markdown",
   "metadata": {},
   "source": [
    "## Full Structures\n",
    "\n",
    "\n",
    "### Chemical Similarities\n",
    "\n",
    "of `pnp_id` to the published ChEMBL compounds.\n"
   ]
  },
  {
   "cell_type": "code",
   "execution_count": 7,
   "metadata": {},
   "outputs": [],
   "source": [
    "def fp_from_smiles(smi, fp_type=\"ecfc4\"):\n",
    "    mol = Chem.MolFromSmiles(smi)\n",
    "    assert mol is not None, f\"Could not parse smiles: {smi}\"\n",
    "    if fp_type == \"ecfc4\":\n",
    "        fp = Chem.GetMorganFingerprint(mol, 2)\n",
    "    elif fp_type == \"ecfp6\":\n",
    "        fp = Chem.GetMorganFingerprintAsBitVect(mol, 3, nBits=1024)\n",
    "    else:\n",
    "        raise ValueError(f\"Unknown fp_type: {fp_type}\")\n",
    "    return fp\n",
    "\n",
    "def TaniSim(ref_fp, smiles, fp_type):\n",
    "    fp = fp_from_smiles(smiles, fp_type)\n",
    "    return round(DataStructs.TanimotoSimilarity(ref_fp, fp), 3)"
   ]
  },
  {
   "cell_type": "code",
   "execution_count": 8,
   "metadata": {},
   "outputs": [
    {
     "name": "stdout",
     "output_type": "stream",
     "text": [
      "read_tsv                           : [     616 /   6 ] ( Cpd_Id, Name, InChIKey, Smiles, DataSet, CpdClass )\n"
     ]
    },
    {
     "data": {
      "application/vnd.jupyter.widget-view+json": {
       "model_id": "f7a9947fe9c34c2d8b6b2c93b70ca5f7",
       "version_major": 2,
       "version_minor": 0
      },
      "text/plain": [
       "  0%|          | 0/615 [00:00<?, ?it/s]"
      ]
     },
     "metadata": {},
     "output_type": "display_data"
    },
    {
     "data": {
      "application/vnd.jupyter.widget-view+json": {
       "model_id": "c5108b2691ea4e62a1a7399e816a4b19",
       "version_major": 2,
       "version_minor": 0
      },
      "text/plain": [
       "  0%|          | 0/615 [00:00<?, ?it/s]"
      ]
     },
     "metadata": {},
     "output_type": "display_data"
    },
    {
     "name": "stdout",
     "output_type": "stream",
     "text": [
      "Median ECFC4 similarity: 0.142\n",
      "Median ECFP6 similarity: 0.097\n",
      "TaniSim                            : [     615 /   8 ] ( Cpd_Id, Name, InChIKey, Smiles, DataSet, CpdClass, ECFC4, ECFP6 )\n"
     ]
    }
   ],
   "source": [
    "df_all = u.read_tsv(\"input/smiles_all.tsv\")\n",
    "df_tani = df_all.query(f'DataSet == \"{activity}\"').copy()\n",
    "for fp_type in [\"ecfc4\", \"ecfp6\"]:\n",
    "    fp_pnp = fp_from_smiles(pnp_smiles, fp_type)\n",
    "    df_tani[fp_type.upper()] = df_tani.Smiles.progress_apply(lambda x: TaniSim(fp_pnp, x, fp_type))\n",
    "u.write_tsv(df_tani, \"output/ecdf_tani_sim_full.tsv\")\n",
    "print(\"Median ECFC4 similarity:\", df_tani[\"ECFC4\"].median())\n",
    "print(\"Median ECFP6 similarity:\", df_tani[\"ECFP6\"].median())\n",
    "info(df_tani, \"TaniSim\")"
   ]
  },
  {
   "cell_type": "code",
   "execution_count": 9,
   "metadata": {},
   "outputs": [
    {
     "data": {
      "image/png": "[encoded data removed]",
      "text/plain": [
       "<Figure size 720x504 with 1 Axes>"
      ]
     },
     "metadata": {},
     "output_type": "display_data"
    }
   ],
   "source": [
    "tmp = pd.melt(df_tani, id_vars=['Cpd_Id'], value_vars=[\"ECFC4\", \"ECFP6\"],\n",
    "              var_name=\"Fingerprint\", value_name=\"TaniSim\")\n",
    "plt.figure(figsize=(10, 7))\n",
    "sns.ecdfplot(data=tmp, x=\"TaniSim\", stat=\"proportion\", hue=\"Fingerprint\")\n",
    "plt.xlim((0, 1));\n",
    "# plt.legend();\n",
    "plt.title(f\"Tanimoto Fingerprint Similarity\")\n",
    "plt.savefig(\"output/ecdf_tani_sim_full.png\");\n",
    "plt.savefig(\"output/ecdf_tani_sim_full.svg\");"
   ]
  },
  {
   "cell_type": "markdown",
   "metadata": {},
   "source": [
    "### Murcko Scaffolds"
   ]
  },
  {
   "cell_type": "code",
   "execution_count": 10,
   "metadata": {},
   "outputs": [
    {
     "name": "stdout",
     "output_type": "stream",
     "text": [
      "read_tsv                           : [     616 /   6 ] ( Cpd_Id, Name, InChIKey, Smiles, DataSet, CpdClass )\n"
     ]
    },
    {
     "data": {
      "application/vnd.jupyter.widget-view+json": {
       "model_id": "6a8f9adef3884599b9806909e649bd02",
       "version_major": 2,
       "version_minor": 0
      },
      "text/plain": [
       "  0%|          | 0/615 [00:00<?, ?it/s]"
      ]
     },
     "metadata": {},
     "output_type": "display_data"
    },
    {
     "name": "stdout",
     "output_type": "stream",
     "text": [
      "calc_from_smiles                   : [     615 /   7 ]    0 rows removed because of nans. ( Cpd_Id, Name, InChIKey, Smiles, DataSet, CpdClass, Stand_Smiles )\n",
      "drop_cols                          : [     615 /   5 ]  2 columns removed. ( Cpd_Id, Name, DataSet, CpdClass, Stand_Smiles )\n",
      "remove_nans `Smiles`               : [     615 /   5 ]    0 rows removed. ( Cpd_Id, Name, DataSet, CpdClass, Smiles )\n"
     ]
    },
    {
     "data": {
      "application/vnd.jupyter.widget-view+json": {
       "model_id": "a01fc91ff9554a98bec54fbd1a306b52",
       "version_major": 2,
       "version_minor": 0
      },
      "text/plain": [
       "  0%|          | 0/615 [00:00<?, ?it/s]"
      ]
     },
     "metadata": {},
     "output_type": "display_data"
    },
    {
     "data": {
      "application/vnd.jupyter.widget-view+json": {
       "model_id": "0e718588698f4e26b00e6a63edefe17e",
       "version_major": 2,
       "version_minor": 0
      },
      "text/plain": [
       "  0%|          | 0/615 [00:00<?, ?it/s]"
      ]
     },
     "metadata": {},
     "output_type": "display_data"
    },
    {
     "name": "stdout",
     "output_type": "stream",
     "text": [
      "murcko_from_smiles                 : [     615 /   7 ]    0 rows removed. ( Cpd_Id, Name, DataSet, CpdClass, Smiles, Murcko_Smiles, Murcko_InChIKey )\n",
      "drop_cols                          : [     615 /   5 ]  2 columns removed. ( Cpd_Id, Name, DataSet, CpdClass, Murcko_Smiles )\n"
     ]
    },
    {
     "data": {
      "application/vnd.jupyter.widget-view+json": {
       "model_id": "fcf4a1ab12354917b5ef374ffcef4836",
       "version_major": 2,
       "version_minor": 0
      },
      "text/plain": [
       "  0%|          | 0/615 [00:00<?, ?it/s]"
      ]
     },
     "metadata": {},
     "output_type": "display_data"
    },
    {
     "name": "stdout",
     "output_type": "stream",
     "text": [
      "calc_from_smiles                   : [     615 /   6 ]    0 rows removed because of nans. ( Cpd_Id, Name, DataSet, CpdClass, Smiles, Stand_Smiles )\n",
      "drop_cols                          : [     615 /   5 ]  1 columns removed. ( Cpd_Id, Name, DataSet, CpdClass, Stand_Smiles )\n",
      "remove_nans `Smiles`               : [     615 /   5 ]    0 rows removed. ( Cpd_Id, Name, DataSet, CpdClass, Smiles )\n"
     ]
    },
    {
     "data": {
      "application/vnd.jupyter.widget-view+json": {
       "model_id": "446aaba6085842cfab80a9a6e7b2d362",
       "version_major": 2,
       "version_minor": 0
      },
      "text/plain": [
       "  0%|          | 0/615 [00:00<?, ?it/s]"
      ]
     },
     "metadata": {},
     "output_type": "display_data"
    },
    {
     "name": "stdout",
     "output_type": "stream",
     "text": [
      "inchi_from_smiles                  : [     615 /   6 ]    0 rows removed. ( Cpd_Id, Name, DataSet, CpdClass, Smiles, InChIKey )\n",
      "Unique Murckos                     : [     292 /   6 ] ( Cpd_Id, Name, DataSet, CpdClass, Smiles, InChIKey )\n"
     ]
    }
   ],
   "source": [
    "df_all = u.read_tsv(\"input/smiles_all.tsv\")\n",
    "df_murcko = df_all.query(f'DataSet == \"{activity}\"').copy()\n",
    "\n",
    "# Canonicalize Tautomer\n",
    "df_murcko = u.calc_from_smiles(df_murcko, \"Stand_Smiles\", lambda x: u.standardize_mol(x, canonicalize_tautomer=True))\n",
    "df_murcko = u.drop_cols(df_murcko, [\"InChIKey\", \"Smiles\"])\n",
    "df_murcko = df_murcko.rename(columns={'Stand_Smiles': 'Smiles'})\n",
    "df_murcko = u.remove_nans(df_murcko, \"Smiles\")\n",
    "\n",
    "# Murcko Scaffold\n",
    "df_murcko = u.murcko_from_smiles(df_murcko)\n",
    "df_murcko = u.drop_cols(df_murcko, [\"Murcko_InChIKey\", \"Smiles\"])\n",
    "df_murcko = df_murcko.rename(columns={'Murcko_Smiles': 'Smiles'})\n",
    "\n",
    "# Canonicalize again\n",
    "df_murcko = u.calc_from_smiles(df_murcko, \"Stand_Smiles\", lambda x: u.standardize_mol(x, canonicalize_tautomer=True))\n",
    "df_murcko = u.drop_cols(df_murcko, \"Smiles\")\n",
    "df_murcko = df_murcko.rename(columns={'Stand_Smiles': 'Smiles'})\n",
    "df_murcko = u.remove_nans(df_murcko, \"Smiles\")\n",
    "\n",
    "# Murcko InChIKeys of the canonical tautomers\n",
    "df_murcko = u.inchi_from_smiles(df_murcko)\n",
    "\n",
    "# Remove duplicates\n",
    "df_murcko = df_murcko.drop_duplicates(subset=[\"InChIKey\"])\n",
    "info(df_murcko, \"Unique Murckos\")"
   ]
  },
  {
   "cell_type": "code",
   "execution_count": 11,
   "metadata": {},
   "outputs": [
    {
     "data": {
      "application/vnd.jupyter.widget-view+json": {
       "model_id": "16f48cfb96a14616a98bd64f15aef370",
       "version_major": 2,
       "version_minor": 0
      },
      "text/plain": [
       "  0%|          | 0/292 [00:00<?, ?it/s]"
      ]
     },
     "metadata": {},
     "output_type": "display_data"
    },
    {
     "data": {
      "application/vnd.jupyter.widget-view+json": {
       "model_id": "b80fe357a98241c5bdf002e7b9473aad",
       "version_major": 2,
       "version_minor": 0
      },
      "text/plain": [
       "  0%|          | 0/292 [00:00<?, ?it/s]"
      ]
     },
     "metadata": {},
     "output_type": "display_data"
    },
    {
     "name": "stdout",
     "output_type": "stream",
     "text": [
      "TaniSim                            : [     292 /   8 ] ( Cpd_Id, Name, DataSet, CpdClass, Smiles, InChIKey, ECFC4, ECFP6 )\n"
     ]
    }
   ],
   "source": [
    "df_tani = df_murcko.copy()\n",
    "pnp_murcko = MurckoScaffold.MurckoScaffoldSmiles(smiles=pnp_smiles)\n",
    "for fp_type in [\"ecfc4\", \"ecfp6\"]:\n",
    "    fp_pnp = fp_from_smiles(pnp_smiles, fp_type)\n",
    "    df_tani[fp_type.upper()] = df_tani.Smiles.progress_apply(lambda x: TaniSim(fp_pnp, x, fp_type))\n",
    "u.write_tsv(df_tani, \"output/ecdf_tani_sim_murcko.tsv\")\n",
    "info(df_tani, \"TaniSim\")"
   ]
  },
  {
   "cell_type": "code",
   "execution_count": 12,
   "metadata": {},
   "outputs": [
    {
     "data": {
      "image/png": "[encoded data removed]",
      "text/plain": [
       "<Figure size 720x504 with 1 Axes>"
      ]
     },
     "metadata": {},
     "output_type": "display_data"
    }
   ],
   "source": [
    "tmp = pd.melt(df_tani, id_vars=['Cpd_Id'], value_vars=[\"ECFC4\", \"ECFP6\"],\n",
    "              var_name=\"Fingerprint\", value_name=\"TaniSim\")\n",
    "plt.figure(figsize=(10, 7))\n",
    "sns.ecdfplot(data=tmp, x=\"TaniSim\", stat=\"proportion\", hue=\"Fingerprint\")\n",
    "plt.xlim((0, 1));\n",
    "# plt.legend();\n",
    "plt.title(f\"Tanimoto Fingerprint Similarity\")\n",
    "plt.savefig(\"output/ecdf_tani_sim_murcko.png\");\n",
    "plt.savefig(\"output/ecdf_tani_sim_murcko.svg\");"
   ]
  },
  {
   "cell_type": "code",
   "execution_count": null,
   "metadata": {},
   "outputs": [],
   "source": []
  }
 ],
 "metadata": {
  "kernelspec": {
   "display_name": "Python 3.9.12 ('smo')",
   "language": "python",
   "name": "python3"
  },
  "language_info": {
   "codemirror_mode": {
    "name": "ipython",
    "version": 3
   },
   "file_extension": ".py",
   "mimetype": "text/x-python",
   "name": "python",
   "nbconvert_exporter": "python",
   "pygments_lexer": "ipython3",
   "version": "3.9.12"
  },
  "orig_nbformat": 4,
  "vscode": {
   "interpreter": {
    "hash": "5019efa0ce63b77b9d8f4adf6db9a1bbc18ce383c65771d631b3fe6167c1c0f9"
   }
  }
 },
 "nbformat": 4,
 "nbformat_minor": 2
}
